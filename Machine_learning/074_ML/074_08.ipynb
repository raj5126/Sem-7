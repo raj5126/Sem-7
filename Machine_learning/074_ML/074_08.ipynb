{
  "nbformat": 4,
  "nbformat_minor": 0,
  "metadata": {
    "colab": {
      "name": "074_08_01",
      "provenance": [],
      "collapsed_sections": []
    },
    "kernelspec": {
      "name": "python3",
      "display_name": "Python 3"
    }
  },
  "cells": [
    {
      "cell_type": "code",
      "metadata": {
        "id": "HFFN6o83sJMi",
        "colab_type": "code",
        "colab": {
          "base_uri": "https://localhost:8080/",
          "height": 70
        },
        "outputId": "4e05a6c2-4884-4706-dfab-c8e7fb228705"
      },
      "source": [
        "# import all libraries\n",
        "from sklearn.datasets import load_breast_cancer\n",
        "from sklearn.cluster import KMeans\n",
        "import numpy as np\n",
        "from scipy.stats import mode\n",
        "from sklearn.metrics import accuracy_score\n",
        "import matplotlib.pyplot as plt\n",
        "from sklearn.metrics import confusion_matrix\n",
        "import seaborn as sns"
      ],
      "execution_count": 1,
      "outputs": [
        {
          "output_type": "stream",
          "text": [
            "/usr/local/lib/python3.6/dist-packages/statsmodels/tools/_testing.py:19: FutureWarning: pandas.util.testing is deprecated. Use the functions in the public API at pandas.testing instead.\n",
            "  import pandas.util.testing as tm\n"
          ],
          "name": "stderr"
        }
      ]
    },
    {
      "cell_type": "code",
      "metadata": {
        "id": "7iy5TyeRuiF6",
        "colab_type": "code",
        "colab": {
          "base_uri": "https://localhost:8080/",
          "height": 34
        },
        "outputId": "85f29f9b-f9bd-4704-ed3c-516dcbc07578"
      },
      "source": [
        "# load dataset\n",
        "data = load_breast_cancer()\n",
        "list(data.target_names)"
      ],
      "execution_count": 2,
      "outputs": [
        {
          "output_type": "execute_result",
          "data": {
            "text/plain": [
              "['malignant', 'benign']"
            ]
          },
          "metadata": {
            "tags": []
          },
          "execution_count": 2
        }
      ]
    },
    {
      "cell_type": "code",
      "metadata": {
        "id": "czH56ZCUsjNR",
        "colab_type": "code",
        "colab": {
          "base_uri": "https://localhost:8080/",
          "height": 50
        },
        "outputId": "9d962ded-6dd4-4827-c9b4-7c9220bd7911"
      },
      "source": [
        "# check data size and target size\n",
        "print(\"Data size : \",data.data.shape)\n",
        "print(\"Target size : \",data.target.shape)"
      ],
      "execution_count": 3,
      "outputs": [
        {
          "output_type": "stream",
          "text": [
            "Data size :  (569, 30)\n",
            "Target size :  (569,)\n"
          ],
          "name": "stdout"
        }
      ]
    },
    {
      "cell_type": "code",
      "metadata": {
        "id": "yuWofLpBstgy",
        "colab_type": "code",
        "colab": {}
      },
      "source": [
        "# define kMeans and fit data into model\n",
        "kmeans = KMeans(n_clusters=2,random_state=74)\n",
        "prediction = kmeans.fit_predict(data.data)"
      ],
      "execution_count": 4,
      "outputs": []
    },
    {
      "cell_type": "code",
      "metadata": {
        "id": "ANtC9nmPtZY8",
        "colab_type": "code",
        "colab": {
          "base_uri": "https://localhost:8080/",
          "height": 34
        },
        "outputId": "ff392b2c-cfd3-4334-bc85-b9c9f4a4f658"
      },
      "source": [
        "# Cluster shape 2 - class 30 -features\n",
        "kmeans.cluster_centers_.shape"
      ],
      "execution_count": 5,
      "outputs": [
        {
          "output_type": "execute_result",
          "data": {
            "text/plain": [
              "(2, 30)"
            ]
          },
          "metadata": {
            "tags": []
          },
          "execution_count": 5
        }
      ]
    },
    {
      "cell_type": "code",
      "metadata": {
        "id": "DFbD_Wemtmop",
        "colab_type": "code",
        "colab": {
          "base_uri": "https://localhost:8080/",
          "height": 34
        },
        "outputId": "9a138e3b-deb3-4732-ec78-bd13227c099d"
      },
      "source": [
        "# find accuracy score\n",
        "labels = np.zeros_like(prediction)\n",
        "for i in range(2):\n",
        "  mask = (prediction==i)\n",
        "  labels[mask] = mode(data.target[mask])[0]\n",
        "accuracy = accuracy_score(data.target,labels)\n",
        "print(\"Accuracy is :  \",accuracy)"
      ],
      "execution_count": 6,
      "outputs": [
        {
          "output_type": "stream",
          "text": [
            "Accuracy is :   0.8541300527240774\n"
          ],
          "name": "stdout"
        }
      ]
    },
    {
      "cell_type": "code",
      "metadata": {
        "id": "0B8Bz5Zjt6cG",
        "colab_type": "code",
        "colab": {
          "base_uri": "https://localhost:8080/",
          "height": 296
        },
        "outputId": "3d8f95df-034a-45c4-eb7a-08f0910029b7"
      },
      "source": [
        "# create confusion matrix using heatmap\n",
        "mat = confusion_matrix(data.target, labels)\n",
        "ax = sns.heatmap(mat.T, square=True, annot=True, fmt='d',cbar=False,\n",
        "                 xticklabels=data.target_names,\n",
        "                 yticklabels=data.target_names)\n",
        "ax.set_ylim(2,0,0)\n",
        "plt.xlabel('true label')\n",
        "plt.ylabel('predicted label')"
      ],
      "execution_count": 7,
      "outputs": [
        {
          "output_type": "execute_result",
          "data": {
            "text/plain": [
              "Text(91.68, 0.5, 'predicted label')"
            ]
          },
          "metadata": {
            "tags": []
          },
          "execution_count": 7
        },
        {
          "output_type": "display_data",
          "data": {
            "image/png": "[encoded data removed]",
            "text/plain": [
              "<Figure size 432x288 with 1 Axes>"
            ]
          },
          "metadata": {
            "tags": [],
            "needs_background": "light"
          }
        }
      ]
    },
    {
      "cell_type": "code",
      "metadata": {
        "id": "U48dMj7CqjZZ",
        "colab_type": "code",
        "colab": {
          "base_uri": "https://localhost:8080/",
          "height": 430
        },
        "outputId": "ebc34fd9-b7ff-42da-da20-7392d3efb917"
      },
      "source": [
        "# Find the best number of cluster for clustering using KElbowVisualizer\n",
        "from yellowbrick.cluster import KElbowVisualizer\n",
        "model = KMeans(random_state=0)\n",
        "visualizer = KElbowVisualizer(model,k=(2,6),metric='silhouette',timings=False)\n",
        "visualizer.fit(data.data)\n",
        "visualizer.poof()"
      ],
      "execution_count": 8,
      "outputs": [
        {
          "output_type": "stream",
          "text": [
            "/usr/local/lib/python3.6/dist-packages/sklearn/utils/deprecation.py:144: FutureWarning: The sklearn.metrics.classification module is  deprecated in version 0.22 and will be removed in version 0.24. The corresponding classes / functions should instead be imported from sklearn.metrics. Anything that cannot be imported from sklearn.metrics is now part of the private API.\n",
            "  warnings.warn(message, FutureWarning)\n"
          ],
          "name": "stderr"
        },
        {
          "output_type": "display_data",
          "data": {
            "image/png": "[encoded data removed]",
            "text/plain": [
              "<Figure size 576x396 with 1 Axes>"
            ]
          },
          "metadata": {
            "tags": []
          }
        }
      ]
    },
    {
      "cell_type": "code",
      "metadata": {
        "id": "cIB8NlbvqqXN",
        "colab_type": "code",
        "colab": {
          "base_uri": "https://localhost:8080/",
          "height": 34
        },
        "outputId": "15d4833d-9484-45b4-c2f0-1103b61c5a31"
      },
      "source": [
        "# Check siihouette_score which is same as above graph for no.cluster=2\n",
        "from sklearn.metrics import silhouette_score\n",
        "print(silhouette_score(data.data,labels))"
      ],
      "execution_count": 9,
      "outputs": [
        {
          "output_type": "stream",
          "text": [
            "0.6972646156059464\n"
          ],
          "name": "stdout"
        }
      ]
    }
  ]
}