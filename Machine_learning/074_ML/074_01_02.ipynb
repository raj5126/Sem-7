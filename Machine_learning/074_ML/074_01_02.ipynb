{
 "cells": [
  {
   "cell_type": "code",
   "execution_count": 1,
   "metadata": {
    "colab": {
     "base_uri": "https://localhost:8080/",
     "height": 34
    },
    "colab_type": "code",
    "id": "HxOqb9MqpC0U",
    "outputId": "81d95ed5-b917-4367-bd67-6f685c6fa93e"
   },
   "outputs": [
    {
     "name": "stdout",
     "output_type": "stream",
     "text": [
      "Drive already mounted at /content/drive; to attempt to forcibly remount, call drive.mount(\"/content/drive\", force_remount=True).\n"
     ]
    }
   ],
   "source": [
    "from google.colab import drive\n",
    "drive.mount('/content/drive')"
   ]
  },
  {
   "cell_type": "code",
   "execution_count": 2,
   "metadata": {
    "colab": {
     "base_uri": "https://localhost:8080/",
     "height": 70
    },
    "colab_type": "code",
    "id": "j1RsCEAqrCzt",
    "outputId": "28005bb8-022b-473a-9361-fbca2d1de8d8"
   },
   "outputs": [
    {
     "name": "stdout",
     "output_type": "stream",
     "text": [
      "[nltk_data] Downloading package punkt to /root/nltk_data...\n",
      "[nltk_data]   Package punkt is already up-to-date!\n"
     ]
    },
    {
     "data": {
      "text/plain": [
       "True"
      ]
     },
     "execution_count": 2,
     "metadata": {
      "tags": []
     },
     "output_type": "execute_result"
    }
   ],
   "source": [
    "#import Libraries\n",
    "import csv\n",
    "from csv import reader\n",
    "import pandas as pd\n",
    "import numpy as np\n",
    "import matplotlib.pyplot as plt\n",
    "from tensorflow.keras.preprocessing.text import Tokenizer\n",
    "import nltk\n",
    "from nltk.stem import PorterStemmer\n",
    "from nltk.tokenize import word_tokenize\n",
    "nltk.download('punkt')"
   ]
  },
  {
   "cell_type": "code",
   "execution_count": 3,
   "metadata": {
    "colab": {
     "base_uri": "https://localhost:8080/",
     "height": 197
    },
    "colab_type": "code",
    "id": "RGmPHEl3drpD",
    "outputId": "27f2440b-d996-4086-b636-42a4b33cd188"
   },
   "outputs": [
    {
     "data": {
      "text/html": [
       "<div>\n",
       "<style scoped>\n",
       "    .dataframe tbody tr th:only-of-type {\n",
       "        vertical-align: middle;\n",
       "    }\n",
       "\n",
       "    .dataframe tbody tr th {\n",
       "        vertical-align: top;\n",
       "    }\n",
       "\n",
       "    .dataframe thead th {\n",
       "        text-align: right;\n",
       "    }\n",
       "</style>\n",
       "<table border=\"1\" class=\"dataframe\">\n",
       "  <thead>\n",
       "    <tr style=\"text-align: right;\">\n",
       "      <th></th>\n",
       "      <th>category</th>\n",
       "      <th>text</th>\n",
       "    </tr>\n",
       "  </thead>\n",
       "  <tbody>\n",
       "    <tr>\n",
       "      <th>0</th>\n",
       "      <td>tech</td>\n",
       "      <td>tv future in the hands of viewers with home th...</td>\n",
       "    </tr>\n",
       "    <tr>\n",
       "      <th>1</th>\n",
       "      <td>business</td>\n",
       "      <td>worldcom boss  left books alone  former worldc...</td>\n",
       "    </tr>\n",
       "    <tr>\n",
       "      <th>2</th>\n",
       "      <td>sport</td>\n",
       "      <td>tigers wary of farrell  gamble  leicester say ...</td>\n",
       "    </tr>\n",
       "    <tr>\n",
       "      <th>3</th>\n",
       "      <td>sport</td>\n",
       "      <td>yeading face newcastle in fa cup premiership s...</td>\n",
       "    </tr>\n",
       "    <tr>\n",
       "      <th>4</th>\n",
       "      <td>entertainment</td>\n",
       "      <td>ocean s twelve raids box office ocean s twelve...</td>\n",
       "    </tr>\n",
       "  </tbody>\n",
       "</table>\n",
       "</div>"
      ],
      "text/plain": [
       "        category                                               text\n",
       "0           tech  tv future in the hands of viewers with home th...\n",
       "1       business  worldcom boss  left books alone  former worldc...\n",
       "2          sport  tigers wary of farrell  gamble  leicester say ...\n",
       "3          sport  yeading face newcastle in fa cup premiership s...\n",
       "4  entertainment  ocean s twelve raids box office ocean s twelve..."
      ]
     },
     "execution_count": 3,
     "metadata": {
      "tags": []
     },
     "output_type": "execute_result"
    }
   ],
   "source": [
    "#Load data using pandas\n",
    "nlp_data = pd.read_csv('/content/drive/My Drive/data_sample/bbc-text.csv')\n",
    "nlp_data.head(5)"
   ]
  },
  {
   "cell_type": "code",
   "execution_count": 4,
   "metadata": {
    "colab": {
     "base_uri": "https://localhost:8080/",
     "height": 141
    },
    "colab_type": "code",
    "id": "K6uoTVJKd2oK",
    "outputId": "3d8d21e3-ff19-4803-f45f-7a142ca4e467"
   },
   "outputs": [
    {
     "name": "stdout",
     "output_type": "stream",
     "text": [
      "               Total\n",
      "category            \n",
      "business         510\n",
      "entertainment    386\n",
      "politics         417\n",
      "sport            511\n",
      "tech             401\n"
     ]
    }
   ],
   "source": [
    "#Arrange data by categorywise and count\n",
    "df_category_wise = nlp_data.groupby('category',axis=0).count()\n",
    "df_category_wise.rename(columns={'text':'Total'},inplace=True)\n",
    "print(df_category_wise)"
   ]
  },
  {
   "cell_type": "code",
   "execution_count": 5,
   "metadata": {
    "colab": {
     "base_uri": "https://localhost:8080/",
     "height": 373
    },
    "colab_type": "code",
    "id": "l2KOnyWYeC5Z",
    "outputId": "773c4f69-e8f6-49c0-d704-0632c4f150fa"
   },
   "outputs": [
    {
     "data": {
      "image/png": "[encoded data removed]",
      "text/plain": [
       "<Figure size 720x432 with 1 Axes>"
      ]
     },
     "metadata": {
      "tags": []
     },
     "output_type": "display_data"
    }
   ],
   "source": [
    "#pie chart that shows news percentage according to category\n",
    "explode_list = [0,0,0,0.1,0]\n",
    "df_category_wise['Total'].plot(\n",
    "    kind='pie',\n",
    "    figsize=(10,6),\n",
    "    autopct = '%1.1f%%',\n",
    "    labels = None,\n",
    "    explode = explode_list,\n",
    "    startangle=90,\n",
    "    shadow=True,\n",
    ")\n",
    "plt.title('News According to Category')\n",
    "plt.axis('equal')\n",
    "plt.legend(labels=df_category_wise.index, loc='upper left')\n",
    "plt.show()"
   ]
  },
  {
   "cell_type": "code",
   "execution_count": 6,
   "metadata": {
    "colab": {
     "base_uri": "https://localhost:8080/",
     "height": 90
    },
    "colab_type": "code",
    "id": "SM9t8UfQu9Xg",
    "outputId": "b5bf8a4f-52e7-41ee-9994-1fd38a18292d"
   },
   "outputs": [
    {
     "name": "stdout",
     "output_type": "stream",
     "text": [
      "business\n",
      "worldcom boss  left books alone  former worldcom boss bernie ebbers  who is accused of overseeing an $11bn (£5.8bn) fraud  never made accounting decisions  a witness has told jurors.  david myers made the comments under questioning by defence lawyers who have been arguing that mr ebbers was not responsible for worldcom s problems. the phone company collapsed in 2002 and prosecutors claim that losses were hidden to protect the firm s shares. mr myers has already pleaded guilty to fraud and is assisting prosecutors.  on monday  defence lawyer reid weingarten tried to distance his client from the allegations. during cross examination  he asked mr myers if he ever knew mr ebbers  make an accounting decision  .  not that i am aware of   mr myers replied.  did you ever know mr ebbers to make an accounting entry into worldcom books   mr weingarten pressed.  no   replied the witness. mr myers has admitted that he ordered false accounting entries at the request of former worldcom chief financial officer scott sullivan. defence lawyers have been trying to paint mr sullivan  who has admitted fraud and will testify later in the trial  as the mastermind behind worldcom s accounting house of cards.  mr ebbers  team  meanwhile  are looking to portray him as an affable boss  who by his own admission is more pe graduate than economist. whatever his abilities  mr ebbers transformed worldcom from a relative unknown into a $160bn telecoms giant and investor darling of the late 1990s. worldcom s problems mounted  however  as competition increased and the telecoms boom petered out. when the firm finally collapsed  shareholders lost about $180bn and 20 000 workers lost their jobs. mr ebbers  trial is expected to last two months and if found guilty the former ceo faces a substantial jail sentence. he has firmly declared his innocence.\n",
      "2225\n"
     ]
    }
   ],
   "source": [
    "#From csv file list out news and category\n",
    "stopwords = [ \"a\", \"about\", \"above\", \"after\", \"again\", \"against\", \"all\", \"am\", \"an\", \"and\", \"any\", \"are\", \"as\", \"at\", \"be\", \"because\", \"been\", \"before\", \"being\", \"below\", \"between\", \"both\", \"but\", \"by\", \"could\", \"did\", \"do\", \"does\", \"doing\", \"down\", \"during\", \"each\", \"few\", \"for\", \"from\", \"further\", \"had\", \"has\", \"have\", \"having\", \"he\", \"he'd\", \"he'll\", \"he's\", \"her\", \"here\", \"here's\", \"hers\", \"herself\", \"him\", \"himself\", \"his\", \"how\", \"how's\", \"i\", \"i'd\", \"i'll\", \"i'm\", \"i've\", \"if\", \"in\", \"into\", \"is\", \"it\", \"it's\", \"its\", \"itself\", \"let's\", \"me\", \"more\", \"most\", \"my\", \"myself\", \"nor\", \"of\", \"on\", \"once\", \"only\", \"or\", \"other\", \"ought\", \"our\", \"ours\", \"ourselves\", \"out\", \"over\", \"own\", \"same\", \"she\", \"she'd\", \"she'll\", \"she's\", \"should\", \"so\", \"some\", \"such\", \"than\", \"that\", \"that's\", \"the\", \"their\", \"theirs\", \"them\", \"themselves\", \"then\", \"there\", \"there's\", \"these\", \"they\", \"they'd\", \"they'll\", \"they're\", \"they've\", \"this\", \"those\", \"through\", \"to\", \"too\", \"under\", \"until\", \"up\", \"very\", \"was\", \"we\", \"we'd\", \"we'll\", \"we're\", \"we've\", \"were\", \"what\", \"what's\", \"when\", \"when's\", \"where\", \"where's\", \"which\", \"while\", \"who\", \"who's\", \"whom\", \"why\", \"why's\", \"with\", \"would\", \"you\", \"you'd\", \"you'll\", \"you're\", \"you've\", \"your\", \"yours\", \"yourself\", \"yourselves\" ]\n",
    "category = []\n",
    "news =[]\n",
    "with open('/content/drive/My Drive/data_sample/bbc-text.csv','r') as csvfile:\n",
    "    reader = csv.reader(csvfile,delimiter=',')\n",
    "    next(reader)\n",
    "    for row in reader:\n",
    "        category.append(row[0])\n",
    "        news.append(row[1])\n",
    "print(category[1])\n",
    "print(news[1])\n",
    "print(len(news))"
   ]
  },
  {
   "cell_type": "code",
   "execution_count": 7,
   "metadata": {
    "colab": {
     "base_uri": "https://localhost:8080/",
     "height": 54
    },
    "colab_type": "code",
    "id": "pQYfy_NJ0Rh4",
    "outputId": "b8bdb0de-91cf-42d8-bd33-054ba5535bf3"
   },
   "outputs": [
    {
     "name": "stdout",
     "output_type": "stream",
     "text": [
      "worldcom boss left books alone former worldcom boss bernie ebbers accused overseeing $11bn (£5.8bn) fraud never made accounting decisions witness told jurors. david myers made comments questioning defence lawyers arguing mr ebbers not responsible worldcom s problems. phone company collapsed 2002 prosecutors claim losses hidden protect firm s shares. mr myers already pleaded guilty fraud assisting prosecutors. monday defence lawyer reid weingarten tried distance client allegations. cross examination asked mr myers ever knew mr ebbers make accounting decision . not aware mr myers replied. ever know mr ebbers make accounting entry worldcom books mr weingarten pressed. no replied witness. mr myers admitted ordered false accounting entries request former worldcom chief financial officer scott sullivan. defence lawyers trying paint mr sullivan admitted fraud will testify later trial mastermind behind worldcom s accounting house cards. mr ebbers team meanwhile looking portray affable boss admission pe graduate economist. whatever abilities mr ebbers transformed worldcom relative unknown $160bn telecoms giant investor darling late 1990s. worldcom s problems mounted however competition increased telecoms boom petered out. firm finally collapsed shareholders lost $180bn 20 000 workers lost jobs. mr ebbers trial expected last two months found guilty former ceo faces substantial jail sentence. firmly declared innocence.\n"
     ]
    }
   ],
   "source": [
    "#Remove the stopwords from news-text\n",
    "news_without_stopwords = []\n",
    "#Remove Stop words\n",
    "for sentence in news: \n",
    "    for word in stopwords:\n",
    "        token = ' ' + word + ' '\n",
    "        sentence = sentence.replace(token, \" \")\n",
    "        sentence = sentence.replace(\"  \",\" \")\n",
    "    news_without_stopwords.append(sentence)\n",
    "print(news_without_stopwords[1])"
   ]
  },
  {
   "cell_type": "code",
   "execution_count": 8,
   "metadata": {
    "colab": {
     "base_uri": "https://localhost:8080/",
     "height": 54
    },
    "colab_type": "code",
    "id": "rIVn66ABmkl3",
    "outputId": "e85bfb0f-3ac0-4498-e198-3c0ae8b45887"
   },
   "outputs": [
    {
     "name": "stdout",
     "output_type": "stream",
     "text": [
      " worldcom boss left book alon former worldcom boss berni ebber accus overse $ 11bn ( £5.8bn ) fraud never made account decis wit told juror . david myer made comment question defenc lawyer argu mr ebber not respons worldcom s problem . phone compani collaps 2002 prosecutor claim loss hidden protect firm s share . mr myer alreadi plead guilti fraud assist prosecutor . monday defenc lawyer reid weingarten tri distanc client alleg . cross examin ask mr myer ever knew mr ebber make account decis . not awar mr myer repli . ever know mr ebber make account entri worldcom book mr weingarten press . no repli wit . mr myer admit order fals account entri request former worldcom chief financi offic scott sullivan . defenc lawyer tri paint mr sullivan admit fraud will testifi later trial mastermind behind worldcom s account hous card . mr ebber team meanwhil look portray affabl boss admiss pe graduat economist . whatev abil mr ebber transform worldcom rel unknown $ 160bn telecom giant investor darl late 1990 . worldcom s problem mount howev competit increas telecom boom peter out . firm final collaps sharehold lost $ 180bn 20 000 worker lost job . mr ebber trial expect last two month found guilti former ceo face substanti jail sentenc . firmli declar innoc .\n"
     ]
    }
   ],
   "source": [
    "#Stemming Process\n",
    "stemmer = PorterStemmer()\n",
    "stemmered_news_list = []\n",
    "for news in news_without_stopwords:\n",
    "    stemmered_news =''\n",
    "    word = word_tokenize(news)\n",
    "    for w in word:\n",
    "        stem_word = stemmer.stem(w)\n",
    "        stemmered_news = stemmered_news + \" \" + stem_word\n",
    "    stemmered_news_list.append(stemmered_news)\n",
    "print(stemmered_news_list[1])\n",
    "\n"
   ]
  },
  {
   "cell_type": "code",
   "execution_count": 9,
   "metadata": {
    "colab": {
     "base_uri": "https://localhost:8080/",
     "height": 72
    },
    "colab_type": "code",
    "id": "XI3GceQv0M-N",
    "outputId": "cabf5fdd-5722-4d62-928d-5bdc1aac901e"
   },
   "outputs": [
    {
     "name": "stdout",
     "output_type": "stream",
     "text": [
      "Length without stemming process29714\n",
      "[1621, 611, 252, 1641, 1418, 127, 1621, 611, 5802, 1655, 662, 6975, 5219, 2003, 1823, 757, 294, 33, 2159, 1279, 4420, 28, 5480, 334, 6143, 33, 806, 4273, 858, 1878, 3854, 6, 1655, 5, 1436, 1621, 2, 383, 166, 53, 4274, 628, 2263, 604, 1856, 3049, 1204, 70, 2, 298, 6, 6143, 113, 2810, 1178, 757, 9757, 2263, 455, 858, 1580, 5001, 9758, 1265, 2446, 3517, 1780, 885, 9759, 458, 6, 6143, 373, 1474, 6, 1655, 27, 2159, 198, 5, 1581, 6, 6143, 3855, 373, 185, 6, 1655, 27, 2159, 1879, 1621, 1641, 6, 9758, 6520, 24, 3855, 4420, 6, 6143, 764, 2523, 2083, 2159, 4135, 3399, 127, 1621, 122, 318, 1598, 1692, 1315, 858, 1878, 497, 8821, 6, 1315, 764, 757, 4, 10926, 260, 559, 14977, 374, 1621, 2, 2159, 285, 672, 6, 1655, 153, 737, 320, 8105, 19527, 611, 5481, 10927, 7524, 1437, 2304, 8822, 6, 1655, 5803, 1621, 6521, 4603, 14978, 1654, 622, 3629, 7525, 568, 2218, 1621, 2, 383, 6144, 101, 504, 904, 1654, 2811, 10928, 584, 70, 1622, 4274, 1143, 243, 8106, 277, 38, 765, 243, 404, 6, 1655, 559, 102, 14, 18, 117, 206, 1178, 127, 6976, 1159, 2965, 1972, 2117, 4800, 2396, 6977]\n"
     ]
    }
   ],
   "source": [
    "#Tokenize News without Stemming\n",
    "tokenizer  = Tokenizer(oov_token = \"<OOV>\")\n",
    "tokenizer.fit_on_texts(news_without_stopwords)\n",
    "word_index = tokenizer.word_index\n",
    "news_sequnces = tokenizer.texts_to_sequences(news_without_stopwords)\n",
    "#print(word_index)\n",
    "print(\"Length without stemming process\"+str(len(word_index)))\n",
    "print(news_sequnces[1])"
   ]
  },
  {
   "cell_type": "code",
   "execution_count": 10,
   "metadata": {
    "colab": {
     "base_uri": "https://localhost:8080/",
     "height": 72
    },
    "colab_type": "code",
    "id": "2SDajDt_pclO",
    "outputId": "66f184d4-785f-4482-c6a9-887419112252"
   },
   "outputs": [
    {
     "name": "stdout",
     "output_type": "stream",
     "text": [
      "Length with stemming process 21330\n",
      "[1567, 622, 345, 390, 1407, 190, 1567, 622, 4549, 1585, 598, 3482, 4152, 1865, 1717, 887, 387, 52, 355, 207, 2109, 45, 4153, 442, 4786, 52, 443, 395, 924, 971, 583, 7, 1585, 5, 356, 1567, 2, 180, 104, 33, 1699, 767, 1718, 107, 798, 2633, 426, 37, 2, 114, 7, 4786, 175, 2016, 1217, 887, 1342, 1718, 540, 924, 971, 3996, 7256, 112, 2075, 1866, 820, 863, 2017, 254, 7, 4786, 501, 1454, 7, 1585, 19, 355, 207, 5, 1198, 7, 4786, 2634, 501, 198, 7, 1585, 19, 355, 1455, 1567, 390, 7, 7256, 716, 38, 2634, 2109, 7, 4786, 687, 416, 1923, 355, 1455, 1744, 190, 1567, 170, 388, 154, 1633, 1318, 924, 971, 112, 2703, 7, 1318, 687, 887, 4, 7257, 349, 541, 6602, 483, 1567, 2, 355, 253, 382, 7, 1585, 179, 882, 70, 2635, 14072, 622, 3377, 8032, 3718, 979, 2076, 1083, 7, 1585, 2483, 1567, 1199, 3613, 10887, 1246, 646, 783, 5350, 688, 1688, 1567, 2, 180, 2769, 144, 396, 137, 1246, 1619, 1084, 689, 37, 200, 1699, 888, 336, 6104, 367, 63, 799, 336, 189, 7, 1585, 541, 71, 18, 22, 48, 256, 1217, 190, 5351, 145, 1897, 1423, 1142, 3844, 1476, 2355]\n"
     ]
    }
   ],
   "source": [
    "#Tokenize News with Stemming\n",
    "stemmed_tokenizer  = Tokenizer(oov_token = \"<OOV>\")\n",
    "stemmed_tokenizer.fit_on_texts(stemmered_news_list)\n",
    "word_index = stemmed_tokenizer.word_index\n",
    "news_sequnces = stemmed_tokenizer.texts_to_sequences(stemmered_news_list)\n",
    "#print(word_index)\n",
    "print(\"Length with stemming process \" + str(len(word_index)))\n",
    "print(news_sequnces[1])"
   ]
  },
  {
   "cell_type": "code",
   "execution_count": 11,
   "metadata": {
    "colab": {
     "base_uri": "https://localhost:8080/",
     "height": 70
    },
    "colab_type": "code",
    "id": "scq11nqI4sdl",
    "outputId": "4ef7af12-f1f5-4ef4-9dc5-37f467d2c03f"
   },
   "outputs": [
    {
     "name": "stdout",
     "output_type": "stream",
     "text": [
      "{'sport': 1, 'business': 2, 'politics': 3, 'tech': 4, 'entertainment': 5}\n",
      "[4]\n",
      "[2]\n"
     ]
    }
   ],
   "source": [
    "#Tokenize Category\n",
    "category_tokenizer  = Tokenizer()\n",
    "category_tokenizer.fit_on_texts(category)\n",
    "category_word_index = category_tokenizer.word_index\n",
    "category_sequnces = category_tokenizer.texts_to_sequences(category)\n",
    "print(category_word_index)\n",
    "print(category_sequnces[0])\n",
    "print(category_sequnces[1])"
   ]
  }
 ],
 "metadata": {
  "colab": {
   "collapsed_sections": [],
   "name": "074_01_02.ipynb",
   "provenance": []
  },
  "kernelspec": {
   "display_name": "Python 3",
   "language": "python",
   "name": "python3"
  },
  "language_info": {
   "codemirror_mode": {
    "name": "ipython",
    "version": 3
   },
   "file_extension": ".py",
   "mimetype": "text/x-python",
   "name": "python",
   "nbconvert_exporter": "python",
   "pygments_lexer": "ipython3",
   "version": "3.7.6"
  }
 },
 "nbformat": 4,
 "nbformat_minor": 1
}
