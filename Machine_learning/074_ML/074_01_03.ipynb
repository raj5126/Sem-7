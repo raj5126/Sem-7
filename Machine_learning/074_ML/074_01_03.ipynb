{
 "cells": [
  {
   "cell_type": "code",
   "execution_count": 1,
   "metadata": {},
   "outputs": [],
   "source": [
    "#import numpy library\n",
    "import numpy as np\n",
    "import pandas as pd"
   ]
  },
  {
   "cell_type": "markdown",
   "metadata": {},
   "source": [
    "### 1) Create Two numpy array of size 3 X 2 and 2 X 3"
   ]
  },
  {
   "cell_type": "code",
   "execution_count": 2,
   "metadata": {},
   "outputs": [
    {
     "name": "stdout",
     "output_type": "stream",
     "text": [
      "arr1 = \n",
      "[[242   0]\n",
      " [  0   0]\n",
      " [  0   0]]\n",
      "arr2 = \n",
      "[[250   0   0]\n",
      " [  0   0   0]]\n"
     ]
    }
   ],
   "source": [
    "arr1 = np.empty([3,2],dtype = int)\n",
    "arr2 = np.empty([2,3],dtype = int)\n",
    "print(\"arr1 = \")\n",
    "print(arr1)\n",
    "print(\"arr2 = \")\n",
    "print(arr2)"
   ]
  },
  {
   "cell_type": "markdown",
   "metadata": {},
   "source": [
    "### 2) Randomly Initalize that array"
   ]
  },
  {
   "cell_type": "code",
   "execution_count": 3,
   "metadata": {},
   "outputs": [
    {
     "name": "stdout",
     "output_type": "stream",
     "text": [
      "arr1 = \n",
      "[[6 8]\n",
      " [8 8]\n",
      " [0 5]]\n",
      "arr2 =\n",
      "[[3 9 6]\n",
      " [5 4 5]]\n"
     ]
    }
   ],
   "source": [
    "arr1 = np.random.randint(10,size=np.shape(arr1))\n",
    "arr2 = np.random.randint(10,size=np.shape(arr2))\n",
    "print(\"arr1 = \")\n",
    "print(arr1)\n",
    "print(\"arr2 =\")\n",
    "print(arr2)"
   ]
  },
  {
   "cell_type": "markdown",
   "metadata": {},
   "source": [
    "### 3) Perform matrix multiplication"
   ]
  },
  {
   "cell_type": "code",
   "execution_count": 4,
   "metadata": {},
   "outputs": [
    {
     "name": "stdout",
     "output_type": "stream",
     "text": [
      "Matrix Multiplication = \n",
      "[[ 58  86  76]\n",
      " [ 64 104  88]\n",
      " [ 25  20  25]]\n"
     ]
    }
   ],
   "source": [
    "mat_mul = np.matmul(arr1,arr2)\n",
    "print(\"Matrix Multiplication = \")\n",
    "print(mat_mul)"
   ]
  },
  {
   "cell_type": "markdown",
   "metadata": {},
   "source": [
    "### 4) Perform elementwise matrix multiplication"
   ]
  },
  {
   "cell_type": "code",
   "execution_count": 5,
   "metadata": {},
   "outputs": [
    {
     "name": "stdout",
     "output_type": "stream",
     "text": [
      "[[36 64]\n",
      " [64 64]\n",
      " [ 0 25]]\n",
      "[[ 9 81 36]\n",
      " [25 16 25]]\n",
      "[[18 40]\n",
      " [72 32]\n",
      " [ 0 25]]\n"
     ]
    }
   ],
   "source": [
    "ele_mat_arr1 = arr1*arr1\n",
    "print(ele_mat_arr1)\n",
    "ele_mat_arr2 = arr2*arr2\n",
    "print(ele_mat_arr2)\n",
    "ele_mat_mul = arr1*arr2.T\n",
    "print(ele_mat_mul)"
   ]
  },
  {
   "cell_type": "markdown",
   "metadata": {},
   "source": [
    "### 5) Find mean of first matrix"
   ]
  },
  {
   "cell_type": "code",
   "execution_count": 6,
   "metadata": {},
   "outputs": [
    {
     "name": "stdout",
     "output_type": "stream",
     "text": [
      "5.833333333333333\n",
      "[4.66666667 7.        ]\n",
      "[7.  8.  2.5]\n"
     ]
    }
   ],
   "source": [
    "first_mean = np.mean(arr1)\n",
    "first_mean_by_cols = np.mean(arr1, axis=0)\n",
    "first_mean_by_rows = np.mean(arr1, axis=1)\n",
    "print(first_mean)\n",
    "print(first_mean_by_cols)\n",
    "print(first_mean_by_rows)"
   ]
  },
  {
   "cell_type": "markdown",
   "metadata": {},
   "source": [
    "### 6) Convert Numeric entries(columns) of mtcars.csv to Mean Centered Version"
   ]
  },
  {
   "cell_type": "code",
   "execution_count": 7,
   "metadata": {},
   "outputs": [
    {
     "data": {
      "text/html": [
       "<div>\n",
       "<style scoped>\n",
       "    .dataframe tbody tr th:only-of-type {\n",
       "        vertical-align: middle;\n",
       "    }\n",
       "\n",
       "    .dataframe tbody tr th {\n",
       "        vertical-align: top;\n",
       "    }\n",
       "\n",
       "    .dataframe thead th {\n",
       "        text-align: right;\n",
       "    }\n",
       "</style>\n",
       "<table border=\"1\" class=\"dataframe\">\n",
       "  <thead>\n",
       "    <tr style=\"text-align: right;\">\n",
       "      <th></th>\n",
       "      <th>model</th>\n",
       "      <th>mpg</th>\n",
       "      <th>cyl</th>\n",
       "      <th>disp</th>\n",
       "      <th>hp</th>\n",
       "      <th>drat</th>\n",
       "      <th>wt</th>\n",
       "      <th>qsec</th>\n",
       "      <th>vs</th>\n",
       "      <th>am</th>\n",
       "      <th>gear</th>\n",
       "      <th>carb</th>\n",
       "    </tr>\n",
       "  </thead>\n",
       "  <tbody>\n",
       "    <tr>\n",
       "      <th>0</th>\n",
       "      <td>Mazda RX4</td>\n",
       "      <td>21.0</td>\n",
       "      <td>6</td>\n",
       "      <td>160.0</td>\n",
       "      <td>110</td>\n",
       "      <td>3.90</td>\n",
       "      <td>2.620</td>\n",
       "      <td>16.46</td>\n",
       "      <td>0</td>\n",
       "      <td>1</td>\n",
       "      <td>4</td>\n",
       "      <td>4</td>\n",
       "    </tr>\n",
       "    <tr>\n",
       "      <th>1</th>\n",
       "      <td>Mazda RX4 Wag</td>\n",
       "      <td>21.0</td>\n",
       "      <td>6</td>\n",
       "      <td>160.0</td>\n",
       "      <td>110</td>\n",
       "      <td>3.90</td>\n",
       "      <td>2.875</td>\n",
       "      <td>17.02</td>\n",
       "      <td>0</td>\n",
       "      <td>1</td>\n",
       "      <td>4</td>\n",
       "      <td>4</td>\n",
       "    </tr>\n",
       "    <tr>\n",
       "      <th>2</th>\n",
       "      <td>Datsun 710</td>\n",
       "      <td>22.8</td>\n",
       "      <td>4</td>\n",
       "      <td>108.0</td>\n",
       "      <td>93</td>\n",
       "      <td>3.85</td>\n",
       "      <td>2.320</td>\n",
       "      <td>18.61</td>\n",
       "      <td>1</td>\n",
       "      <td>1</td>\n",
       "      <td>4</td>\n",
       "      <td>1</td>\n",
       "    </tr>\n",
       "    <tr>\n",
       "      <th>3</th>\n",
       "      <td>Hornet 4 Drive</td>\n",
       "      <td>21.4</td>\n",
       "      <td>6</td>\n",
       "      <td>258.0</td>\n",
       "      <td>110</td>\n",
       "      <td>3.08</td>\n",
       "      <td>3.215</td>\n",
       "      <td>19.44</td>\n",
       "      <td>1</td>\n",
       "      <td>0</td>\n",
       "      <td>3</td>\n",
       "      <td>1</td>\n",
       "    </tr>\n",
       "    <tr>\n",
       "      <th>4</th>\n",
       "      <td>Hornet Sportabout</td>\n",
       "      <td>18.7</td>\n",
       "      <td>8</td>\n",
       "      <td>360.0</td>\n",
       "      <td>175</td>\n",
       "      <td>3.15</td>\n",
       "      <td>3.440</td>\n",
       "      <td>17.02</td>\n",
       "      <td>0</td>\n",
       "      <td>0</td>\n",
       "      <td>3</td>\n",
       "      <td>2</td>\n",
       "    </tr>\n",
       "  </tbody>\n",
       "</table>\n",
       "</div>"
      ],
      "text/plain": [
       "               model   mpg  cyl   disp   hp  drat     wt   qsec  vs  am  gear  \\\n",
       "0          Mazda RX4  21.0    6  160.0  110  3.90  2.620  16.46   0   1     4   \n",
       "1      Mazda RX4 Wag  21.0    6  160.0  110  3.90  2.875  17.02   0   1     4   \n",
       "2         Datsun 710  22.8    4  108.0   93  3.85  2.320  18.61   1   1     4   \n",
       "3     Hornet 4 Drive  21.4    6  258.0  110  3.08  3.215  19.44   1   0     3   \n",
       "4  Hornet Sportabout  18.7    8  360.0  175  3.15  3.440  17.02   0   0     3   \n",
       "\n",
       "   carb  \n",
       "0     4  \n",
       "1     4  \n",
       "2     1  \n",
       "3     1  \n",
       "4     2  "
      ]
     },
     "execution_count": 7,
     "metadata": {},
     "output_type": "execute_result"
    }
   ],
   "source": [
    "df_mtcars = pd.read_csv(\"C:/Users/Admin/Desktop/Raj/Sem-7/ML-Materials/LAB1/mtcars.csv\")\n",
    "df_mtcars.head(5)"
   ]
  },
  {
   "cell_type": "code",
   "execution_count": 8,
   "metadata": {},
   "outputs": [],
   "source": [
    "# for all columns\n",
    "df_mtcars['mpg'] = df_mtcars['mpg'] - np.mean(df_mtcars['mpg'])\n",
    "df_mtcars['cyl'] = df_mtcars['cyl'] - np.mean(df_mtcars['cyl'])\n",
    "df_mtcars['disp'] = df_mtcars['disp'] - np.mean(df_mtcars['disp'])\n",
    "df_mtcars['hp'] = df_mtcars['hp'] - np.mean(df_mtcars['hp'])\n",
    "df_mtcars['drat'] = df_mtcars['drat'] - np.mean(df_mtcars['drat'])\n",
    "df_mtcars['wt'] = df_mtcars['wt'] - np.mean(df_mtcars['wt'])\n",
    "df_mtcars['qsec'] = df_mtcars['qsec'] - np.mean(df_mtcars['qsec'])\n",
    "df_mtcars['vs'] = df_mtcars['vs'] - np.mean(df_mtcars['vs'])\n",
    "df_mtcars['am'] = df_mtcars['am'] - np.mean(df_mtcars['am'])\n",
    "df_mtcars['gear'] = df_mtcars['gear'] - np.mean(df_mtcars['gear'])\n",
    "df_mtcars['carb'] = df_mtcars['carb'] - np.mean(df_mtcars['carb'])"
   ]
  },
  {
   "cell_type": "code",
   "execution_count": 9,
   "metadata": {},
   "outputs": [
    {
     "data": {
      "text/html": [
       "<div>\n",
       "<style scoped>\n",
       "    .dataframe tbody tr th:only-of-type {\n",
       "        vertical-align: middle;\n",
       "    }\n",
       "\n",
       "    .dataframe tbody tr th {\n",
       "        vertical-align: top;\n",
       "    }\n",
       "\n",
       "    .dataframe thead th {\n",
       "        text-align: right;\n",
       "    }\n",
       "</style>\n",
       "<table border=\"1\" class=\"dataframe\">\n",
       "  <thead>\n",
       "    <tr style=\"text-align: right;\">\n",
       "      <th></th>\n",
       "      <th>model</th>\n",
       "      <th>mpg</th>\n",
       "      <th>cyl</th>\n",
       "      <th>disp</th>\n",
       "      <th>hp</th>\n",
       "      <th>drat</th>\n",
       "      <th>wt</th>\n",
       "      <th>qsec</th>\n",
       "      <th>vs</th>\n",
       "      <th>am</th>\n",
       "      <th>gear</th>\n",
       "      <th>carb</th>\n",
       "    </tr>\n",
       "  </thead>\n",
       "  <tbody>\n",
       "    <tr>\n",
       "      <th>0</th>\n",
       "      <td>Mazda RX4</td>\n",
       "      <td>0.909375</td>\n",
       "      <td>-0.1875</td>\n",
       "      <td>-70.721875</td>\n",
       "      <td>-36.6875</td>\n",
       "      <td>0.303437</td>\n",
       "      <td>-0.59725</td>\n",
       "      <td>-1.38875</td>\n",
       "      <td>-0.4375</td>\n",
       "      <td>0.59375</td>\n",
       "      <td>0.3125</td>\n",
       "      <td>1.1875</td>\n",
       "    </tr>\n",
       "    <tr>\n",
       "      <th>1</th>\n",
       "      <td>Mazda RX4 Wag</td>\n",
       "      <td>0.909375</td>\n",
       "      <td>-0.1875</td>\n",
       "      <td>-70.721875</td>\n",
       "      <td>-36.6875</td>\n",
       "      <td>0.303437</td>\n",
       "      <td>-0.34225</td>\n",
       "      <td>-0.82875</td>\n",
       "      <td>-0.4375</td>\n",
       "      <td>0.59375</td>\n",
       "      <td>0.3125</td>\n",
       "      <td>1.1875</td>\n",
       "    </tr>\n",
       "    <tr>\n",
       "      <th>2</th>\n",
       "      <td>Datsun 710</td>\n",
       "      <td>2.709375</td>\n",
       "      <td>-2.1875</td>\n",
       "      <td>-122.721875</td>\n",
       "      <td>-53.6875</td>\n",
       "      <td>0.253437</td>\n",
       "      <td>-0.89725</td>\n",
       "      <td>0.76125</td>\n",
       "      <td>0.5625</td>\n",
       "      <td>0.59375</td>\n",
       "      <td>0.3125</td>\n",
       "      <td>-1.8125</td>\n",
       "    </tr>\n",
       "    <tr>\n",
       "      <th>3</th>\n",
       "      <td>Hornet 4 Drive</td>\n",
       "      <td>1.309375</td>\n",
       "      <td>-0.1875</td>\n",
       "      <td>27.278125</td>\n",
       "      <td>-36.6875</td>\n",
       "      <td>-0.516563</td>\n",
       "      <td>-0.00225</td>\n",
       "      <td>1.59125</td>\n",
       "      <td>0.5625</td>\n",
       "      <td>-0.40625</td>\n",
       "      <td>-0.6875</td>\n",
       "      <td>-1.8125</td>\n",
       "    </tr>\n",
       "    <tr>\n",
       "      <th>4</th>\n",
       "      <td>Hornet Sportabout</td>\n",
       "      <td>-1.390625</td>\n",
       "      <td>1.8125</td>\n",
       "      <td>129.278125</td>\n",
       "      <td>28.3125</td>\n",
       "      <td>-0.446563</td>\n",
       "      <td>0.22275</td>\n",
       "      <td>-0.82875</td>\n",
       "      <td>-0.4375</td>\n",
       "      <td>-0.40625</td>\n",
       "      <td>-0.6875</td>\n",
       "      <td>-0.8125</td>\n",
       "    </tr>\n",
       "  </tbody>\n",
       "</table>\n",
       "</div>"
      ],
      "text/plain": [
       "               model       mpg     cyl        disp       hp      drat  \\\n",
       "0          Mazda RX4  0.909375 -0.1875  -70.721875 -36.6875  0.303437   \n",
       "1      Mazda RX4 Wag  0.909375 -0.1875  -70.721875 -36.6875  0.303437   \n",
       "2         Datsun 710  2.709375 -2.1875 -122.721875 -53.6875  0.253437   \n",
       "3     Hornet 4 Drive  1.309375 -0.1875   27.278125 -36.6875 -0.516563   \n",
       "4  Hornet Sportabout -1.390625  1.8125  129.278125  28.3125 -0.446563   \n",
       "\n",
       "        wt     qsec      vs       am    gear    carb  \n",
       "0 -0.59725 -1.38875 -0.4375  0.59375  0.3125  1.1875  \n",
       "1 -0.34225 -0.82875 -0.4375  0.59375  0.3125  1.1875  \n",
       "2 -0.89725  0.76125  0.5625  0.59375  0.3125 -1.8125  \n",
       "3 -0.00225  1.59125  0.5625 -0.40625 -0.6875 -1.8125  \n",
       "4  0.22275 -0.82875 -0.4375 -0.40625 -0.6875 -0.8125  "
      ]
     },
     "execution_count": 9,
     "metadata": {},
     "output_type": "execute_result"
    }
   ],
   "source": [
    "#After converted to MCV\n",
    "df_mtcars.head(5)"
   ]
  }
 ],
 "metadata": {
  "kernelspec": {
   "display_name": "Python 3",
   "language": "python",
   "name": "python3"
  },
  "language_info": {
   "codemirror_mode": {
    "name": "ipython",
    "version": 3
   },
   "file_extension": ".py",
   "mimetype": "text/x-python",
   "name": "python",
   "nbconvert_exporter": "python",
   "pygments_lexer": "ipython3",
   "version": "3.7.6"
  }
 },
 "nbformat": 4,
 "nbformat_minor": 4
}
