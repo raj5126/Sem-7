{
 "cells": [
  {
   "cell_type": "code",
   "execution_count": 1,
   "metadata": {
    "colab": {},
    "colab_type": "code",
    "id": "Q4cl2Rtjsuh7"
   },
   "outputs": [],
   "source": [
    "import tensorflow as tf\n",
    "import numpy as np"
   ]
  },
  {
   "cell_type": "code",
   "execution_count": 2,
   "metadata": {
    "colab": {
     "base_uri": "https://localhost:8080/",
     "height": 34
    },
    "colab_type": "code",
    "id": "E_rV_qnQs47l",
    "outputId": "487c69d1-23de-48f3-dd70-7ac6673f8920"
   },
   "outputs": [
    {
     "name": "stdout",
     "output_type": "stream",
     "text": [
      "Tensorflow version :  2.3.0\n"
     ]
    }
   ],
   "source": [
    "print(\"Tensorflow version : \",tf.__version__)"
   ]
  },
  {
   "cell_type": "code",
   "execution_count": 3,
   "metadata": {
    "colab": {
     "base_uri": "https://localhost:8080/",
     "height": 34
    },
    "colab_type": "code",
    "id": "iIUGGtNGtHui",
    "outputId": "0e41dc30-7a10-4f3a-816b-261676da4afb"
   },
   "outputs": [
    {
     "name": "stdout",
     "output_type": "stream",
     "text": [
      "Data size is : 5\n"
     ]
    }
   ],
   "source": [
    "# Input (temp, rainfall, humidity)\n",
    "inputs = np.array([[73, 67, 43], \n",
    "                   [91, 88, 64], \n",
    "                   [87, 134, 58], \n",
    "                   [102, 43, 37], \n",
    "                   [69, 96, 70]], dtype='float32')\n",
    "# Target (apples)\n",
    "targets = np.array([[56], \n",
    "                    [81], \n",
    "                    [119], \n",
    "                    [22], \n",
    "                    [103]], dtype='float32')\n",
    "m = np.shape(targets)\n",
    "print(\"Data size is :\",m[0])"
   ]
  },
  {
   "cell_type": "code",
   "execution_count": 4,
   "metadata": {
    "colab": {
     "base_uri": "https://localhost:8080/",
     "height": 252
    },
    "colab_type": "code",
    "id": "UwPu69rRtYma",
    "outputId": "8b860a84-488a-4130-88e7-6b87030449ae"
   },
   "outputs": [
    {
     "name": "stdout",
     "output_type": "stream",
     "text": [
      "Features :\n",
      "tf.Tensor(\n",
      "[[ 73.  67.  43.]\n",
      " [ 91.  88.  64.]\n",
      " [ 87. 134.  58.]\n",
      " [102.  43.  37.]\n",
      " [ 69.  96.  70.]], shape=(5, 3), dtype=float32)\n",
      "Targets :\n",
      "tf.Tensor(\n",
      "[[ 56.]\n",
      " [ 81.]\n",
      " [119.]\n",
      " [ 22.]\n",
      " [103.]], shape=(5, 1), dtype=float32)\n"
     ]
    }
   ],
   "source": [
    "x = tf.constant( inputs , dtype=tf.float32 )\n",
    "y = tf.constant( targets , dtype=tf.float32) \n",
    "print(\"Features :\")\n",
    "print(x)\n",
    "print(\"Targets :\")\n",
    "print(y)"
   ]
  },
  {
   "cell_type": "code",
   "execution_count": 5,
   "metadata": {
    "colab": {
     "base_uri": "https://localhost:8080/",
     "height": 118
    },
    "colab_type": "code",
    "id": "jT3epJwv25pk",
    "outputId": "2a78aad9-81da-4feb-fdfd-b8068577f01c"
   },
   "outputs": [
    {
     "name": "stdout",
     "output_type": "stream",
     "text": [
      "tf.Tensor(\n",
      "[[ 73.  67.  43.   1.]\n",
      " [ 91.  88.  64.   1.]\n",
      " [ 87. 134.  58.   1.]\n",
      " [102.  43.  37.   1.]\n",
      " [ 69.  96.  70.   1.]], shape=(5, 4), dtype=float32)\n"
     ]
    }
   ],
   "source": [
    "#Add bias\n",
    "bias = tf.ones([m[0],1],tf.float32)\n",
    "new_input = tf.concat([x,bias],1)\n",
    "print(new_input)"
   ]
  },
  {
   "cell_type": "code",
   "execution_count": 6,
   "metadata": {
    "colab": {
     "base_uri": "https://localhost:8080/",
     "height": 101
    },
    "colab_type": "code",
    "id": "jZT86bNf-lvS",
    "outputId": "fa83536e-eb40-4b84-de04-18078f7b2db8"
   },
   "outputs": [
    {
     "name": "stdout",
     "output_type": "stream",
     "text": [
      "tf.Tensor(\n",
      "[[-0.67008066]\n",
      " [-1.5614101 ]\n",
      " [ 0.6786617 ]\n",
      " [-1.0733451 ]], shape=(4, 1), dtype=float32)\n"
     ]
    }
   ],
   "source": [
    "#Intialize weight with random\n",
    "random = tf.random.Generator.from_seed(74)\n",
    "weight = random.normal(shape=[new_input.shape[1],1])\n",
    "print(weight)"
   ]
  },
  {
   "cell_type": "code",
   "execution_count": 7,
   "metadata": {
    "colab": {},
    "colab_type": "code",
    "id": "exZfYGeK_o99"
   },
   "outputs": [],
   "source": [
    "#Define All Functions\n",
    "def loss(y_pred,y):\n",
    "  diff = y_pred-y\n",
    "  diff_transpose = tf.transpose(diff)\n",
    "  loss = tf.tensordot(diff_transpose,diff,axes=1)/(2*m[0])\n",
    "  return loss\n",
    "\n",
    "def predict(x,weight):\n",
    "  y_pred = tf.tensordot(x,weight,axes=1)\n",
    "  return y_pred\n",
    "\n",
    "def gradientDescent(x,y,weight,alpha,num_of_epochs):\n",
    "  for i in range(0,num_of_epochs):\n",
    "     weight = weight - (alpha/m[0])*tf.tensordot(tf.transpose(x),(tf.tensordot(x,weight,axes=1)-y),axes=1)\n",
    "  return weight"
   ]
  },
  {
   "cell_type": "code",
   "execution_count": 8,
   "metadata": {
    "colab": {
     "base_uri": "https://localhost:8080/",
     "height": 168
    },
    "colab_type": "code",
    "id": "1S2zDkA9t0Aa",
    "outputId": "56656d7b-dd85-4d19-a744-fba8b34ff0de"
   },
   "outputs": [
    {
     "name": "stdout",
     "output_type": "stream",
     "text": [
      "Init Predicate ans:\n",
      "tf.Tensor(\n",
      "[[-125.42125]\n",
      " [-156.02043]\n",
      " [-229.23694]\n",
      " [-111.45172]\n",
      " [-149.69797]], shape=(5, 1), dtype=float32)\n",
      "Init loss:\n",
      "29202.693359375\n"
     ]
    }
   ],
   "source": [
    "#Intial pred\n",
    "init_pred = predict(new_input,weight)\n",
    "print(\"Init Predicate ans:\")\n",
    "print(init_pred)\n",
    "\n",
    "#Intial loss\n",
    "init_loss = loss(init_pred,y)\n",
    "print(\"Init loss:\")\n",
    "print(float(init_loss)) \n"
   ]
  },
  {
   "cell_type": "code",
   "execution_count": 9,
   "metadata": {
    "colab": {},
    "colab_type": "code",
    "id": "QPRPFCjFDLLz"
   },
   "outputs": [],
   "source": [
    "num_of_epochs = 1000\n",
    "alpha = 0.0001\n",
    "#find out weight of each feature\n",
    "final_weight = gradientDescent(new_input,y,weight,alpha,num_of_epochs)"
   ]
  },
  {
   "cell_type": "code",
   "execution_count": 10,
   "metadata": {
    "colab": {
     "base_uri": "https://localhost:8080/",
     "height": 118
    },
    "colab_type": "code",
    "id": "bT9GuXuPDbDg",
    "outputId": "37e9c737-503a-4b25-c912-7434b927793c"
   },
   "outputs": [
    {
     "name": "stdout",
     "output_type": "stream",
     "text": [
      "Final weight:\n",
      "tf.Tensor(\n",
      "[[-0.3919538]\n",
      " [ 0.8478244]\n",
      " [ 0.6945543]\n",
      " [-1.0719632]], shape=(4, 1), dtype=float32)\n"
     ]
    }
   ],
   "source": [
    "print(\"Final weight:\")\n",
    "print(final_weight)"
   ]
  },
  {
   "cell_type": "code",
   "execution_count": 11,
   "metadata": {
    "colab": {
     "base_uri": "https://localhost:8080/",
     "height": 134
    },
    "colab_type": "code",
    "id": "VQpb0iPQEMtv",
    "outputId": "4a221614-ecf3-409d-e39a-45afd43c5a35"
   },
   "outputs": [
    {
     "name": "stdout",
     "output_type": "stream",
     "text": [
      "predicted_output:\n",
      "tf.Tensor(\n",
      "[[ 56.985477]\n",
      " [ 82.32027 ]\n",
      " [118.72068 ]\n",
      " [ 21.10371 ]\n",
      " [101.89317 ]], shape=(5, 1), dtype=float32)\n"
     ]
    }
   ],
   "source": [
    "#Predict output\n",
    "predicted_output = predict(new_input,final_weight)\n",
    "print(\"predicted_output:\")\n",
    "print(predicted_output)"
   ]
  },
  {
   "cell_type": "code",
   "execution_count": 12,
   "metadata": {
    "colab": {
     "base_uri": "https://localhost:8080/",
     "height": 34
    },
    "colab_type": "code",
    "id": "LwZ10DAEDeAc",
    "outputId": "f63e98a3-d584-46ac-cc04-98c6193a8203"
   },
   "outputs": [
    {
     "name": "stdout",
     "output_type": "stream",
     "text": [
      "Final cost :  0.48206907510757446\n"
     ]
    }
   ],
   "source": [
    "final_cost = loss(predicted_output,y)\n",
    "print(\"Final cost : \",float(final_cost))"
   ]
  }
 ],
 "metadata": {
  "colab": {
   "collapsed_sections": [],
   "name": "74_05_02.ipynb",
   "provenance": []
  },
  "kernelspec": {
   "display_name": "Python 3",
   "language": "python",
   "name": "python3"
  },
  "language_info": {
   "codemirror_mode": {
    "name": "ipython",
    "version": 3
   },
   "file_extension": ".py",
   "mimetype": "text/x-python",
   "name": "python",
   "nbconvert_exporter": "python",
   "pygments_lexer": "ipython3",
   "version": "3.7.6"
  }
 },
 "nbformat": 4,
 "nbformat_minor": 1
}
