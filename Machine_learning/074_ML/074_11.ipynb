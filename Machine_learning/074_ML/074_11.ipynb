{
  "nbformat": 4,
  "nbformat_minor": 0,
  "metadata": {
    "colab": {
      "name": "074_11_01.ipynb",
      "provenance": []
    },
    "kernelspec": {
      "name": "python3",
      "display_name": "Python 3"
    }
  },
  "cells": [
    {
      "cell_type": "markdown",
      "metadata": {
        "id": "P4GfyVaimhIf"
      },
      "source": [
        "##### Try SVM classifier on MNIST dataset, compare the preformance of linear, polynomial and RBF kernels.\n"
      ]
    },
    {
      "cell_type": "code",
      "metadata": {
        "id": "FipL6zOfwEYE"
      },
      "source": [
        "import numpy as np\n",
        "from sklearn import svm\n",
        "from sklearn import metrics\n",
        "import matplotlib.pyplot as plt\n",
        "from mlxtend.plotting import plot_decision_regions"
      ],
      "execution_count": null,
      "outputs": []
    },
    {
      "cell_type": "code",
      "metadata": {
        "id": "wQN79yRqmoi3"
      },
      "source": [
        "from tensorflow.keras.datasets import mnist\n",
        "(X_train, y_train), (X_test, y_test) = mnist.load_data()\n",
        "X_train, X_test = np.array(X_train, np.float32), np.array(X_test,np.float32)\n",
        "num_features = 784\n",
        "X_train, X_test = X_train.reshape([-1, num_features]), X_test.reshape([-1, num_features])\n",
        "X_train, X_test = X_train/255, X_test/255"
      ],
      "execution_count": null,
      "outputs": []
    },
    {
      "cell_type": "code",
      "metadata": {
        "id": "Y1yB5Jl0uXFA",
        "outputId": "c19f2f07-f82d-4902-e631-dccb292b6b86",
        "colab": {
          "base_uri": "https://localhost:8080/",
          "height": 34
        }
      },
      "source": [
        "clf = svm.SVC(kernel=\"rbf\")\n",
        "clf.fit(X_train, y_train)\n",
        "y_pred = clf.predict(X_test)\n",
        "print(\"Accuracy : \",metrics.accuracy_score(y_test, y_pred))"
      ],
      "execution_count": null,
      "outputs": [
        {
          "output_type": "stream",
          "text": [
            "Accuracy :  0.9792\n"
          ],
          "name": "stdout"
        }
      ]
    },
    {
      "cell_type": "code",
      "metadata": {
        "id": "AtFCwAl2ypHd",
        "outputId": "6e743adb-5d91-48b2-ef0a-a2a3d002e75c",
        "colab": {
          "base_uri": "https://localhost:8080/",
          "height": 34
        }
      },
      "source": [
        "clf = svm.SVC(kernel=\"linear\")\n",
        "clf.fit(X_train, y_train)\n",
        "y_pred = clf.predict(X_test)\n",
        "print(\"Accuracy : \",metrics.accuracy_score(y_test, y_pred))"
      ],
      "execution_count": null,
      "outputs": [
        {
          "output_type": "stream",
          "text": [
            "Accuracy :  0.9404\n"
          ],
          "name": "stdout"
        }
      ]
    },
    {
      "cell_type": "code",
      "metadata": {
        "id": "XsM6AsRk1oaD",
        "outputId": "d132f402-1782-46ac-ed01-52ff9ddef328",
        "colab": {
          "base_uri": "https://localhost:8080/",
          "height": 34
        }
      },
      "source": [
        "clf = svm.SVC(kernel=\"poly\")\n",
        "clf.fit(X_train, y_train)\n",
        "y_pred = clf.predict(X_test)\n",
        "print(\"Accuracy : \",metrics.accuracy_score(y_test, y_pred))"
      ],
      "execution_count": null,
      "outputs": [
        {
          "output_type": "stream",
          "text": [
            "Accuracy :  0.9771\n"
          ],
          "name": "stdout"
        }
      ]
    },
    {
      "cell_type": "markdown",
      "metadata": {
        "id": "cJi6_T6U_M6f"
      },
      "source": [
        "**Using linear, poly, rbf ,accuracy increases respectively.**"
      ]
    }
  ]
}