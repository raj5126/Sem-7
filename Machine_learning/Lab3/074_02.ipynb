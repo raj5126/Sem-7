{
  "nbformat": 4,
  "nbformat_minor": 0,
  "metadata": {
    "colab": {
      "name": "74_03_02.ipynb",
      "provenance": [],
      "collapsed_sections": []
    },
    "kernelspec": {
      "name": "python3",
      "display_name": "Python 3"
    }
  },
  "cells": [
    {
      "cell_type": "code",
      "metadata": {
        "id": "CXi3bo0lGxOO",
        "colab_type": "code",
        "colab": {}
      },
      "source": [
        "#import dataset\n",
        "from sklearn.datasets import load_digits\n",
        "digits = load_digits()"
      ],
      "execution_count": 1,
      "outputs": []
    },
    {
      "cell_type": "code",
      "metadata": {
        "id": "IUe9sgmkJQuW",
        "colab_type": "code",
        "colab": {
          "base_uri": "https://localhost:8080/",
          "height": 292
        },
        "outputId": "734b4b2f-dac6-4540-d995-80f8646d2c55"
      },
      "source": [
        "#display image\n",
        "import matplotlib.pyplot as plt\n",
        "plt.gray() \n",
        "plt.matshow(digits.images[1]) \n",
        "plt.show() "
      ],
      "execution_count": 2,
      "outputs": [
        {
          "output_type": "display_data",
          "data": {
            "text/plain": [
              "<Figure size 432x288 with 0 Axes>"
            ]
          },
          "metadata": {
            "tags": []
          }
        },
        {
          "output_type": "display_data",
          "data": {
            "image/png": "[encoded data removed]",
            "text/plain": [
              "<Figure size 288x288 with 1 Axes>"
            ]
          },
          "metadata": {
            "tags": [],
            "needs_background": "light"
          }
        }
      ]
    },
    {
      "cell_type": "code",
      "metadata": {
        "id": "bWfU9fKhNFdg",
        "colab_type": "code",
        "colab": {
          "base_uri": "https://localhost:8080/",
          "height": 50
        },
        "outputId": "3bdfbff4-d12a-4a7f-bd59-d46382f9a6dd"
      },
      "source": [
        "print(digits.data.shape)\n",
        "print(digits.target.shape)"
      ],
      "execution_count": 3,
      "outputs": [
        {
          "output_type": "stream",
          "text": [
            "(1797, 64)\n",
            "(1797,)\n"
          ],
          "name": "stdout"
        }
      ]
    },
    {
      "cell_type": "code",
      "metadata": {
        "id": "7Dxk6fXVNOK1",
        "colab_type": "code",
        "colab": {}
      },
      "source": [
        "#split data in train and test\n",
        "from sklearn.model_selection import train_test_split\n",
        "x_train ,x_test ,y_train ,y_test = train_test_split(digits.data ,digits.target, test_size=0.35, random_state=74)"
      ],
      "execution_count": 4,
      "outputs": []
    },
    {
      "cell_type": "code",
      "metadata": {
        "id": "ov84vj_We46z",
        "colab_type": "code",
        "colab": {
          "base_uri": "https://localhost:8080/",
          "height": 33
        },
        "outputId": "8bb0c256-bf14-4025-d7e2-c6b1b2e7cb27"
      },
      "source": [
        "#import library and fit model find accuracy\n",
        "from sklearn.naive_bayes import GaussianNB\n",
        "from sklearn import metrics\n",
        "model = GaussianNB()\n",
        "model.fit(x_train,y_train)\n",
        "y_pred = model.predict(x_test)\n",
        "print(\"Accuracy : \",metrics.accuracy_score(y_test,y_pred))\n"
      ],
      "execution_count": 5,
      "outputs": [
        {
          "output_type": "stream",
          "text": [
            "Accuracy :  0.8505564387917329\n"
          ],
          "name": "stdout"
        }
      ]
    },
    {
      "cell_type": "code",
      "metadata": {
        "id": "9IKdGMNqjQFo",
        "colab_type": "code",
        "colab": {
          "base_uri": "https://localhost:8080/",
          "height": 184
        },
        "outputId": "404a77ca-7755-4da2-eda9-b61dfd0cd311"
      },
      "source": [
        "#create confusion matrix\n",
        "from sklearn.metrics import confusion_matrix\n",
        "confusion_matrix(y_test, y_pred)"
      ],
      "execution_count": 6,
      "outputs": [
        {
          "output_type": "execute_result",
          "data": {
            "text/plain": [
              "array([[60,  0,  0,  0,  0,  1,  0,  1,  0,  0],\n",
              "       [ 0, 73,  0,  0,  0,  0,  0,  1,  3,  1],\n",
              "       [ 0, 14, 27,  0,  0,  0,  0,  0, 14,  0],\n",
              "       [ 0,  0,  0, 57,  0,  1,  0,  3,  2,  0],\n",
              "       [ 0,  2,  0,  0, 52,  0,  0,  6,  1,  0],\n",
              "       [ 0,  0,  0,  0,  0, 55,  0,  3,  1,  0],\n",
              "       [ 0,  0,  1,  0,  1,  1, 57,  0,  0,  0],\n",
              "       [ 0,  0,  1,  0,  1,  1,  0, 64,  0,  0],\n",
              "       [ 0, 15,  0,  0,  0,  1,  0,  3, 43,  0],\n",
              "       [ 1,  4,  0,  1,  0,  0,  1,  6,  2, 47]])"
            ]
          },
          "metadata": {
            "tags": []
          },
          "execution_count": 6
        }
      ]
    },
    {
      "cell_type": "code",
      "metadata": {
        "id": "6XRBc6VVktqQ",
        "colab_type": "code",
        "colab": {
          "base_uri": "https://localhost:8080/",
          "height": 50
        },
        "outputId": "c8c9d6b9-9c9d-4812-c48c-0275290793f4"
      },
      "source": [
        "#checked on random data\n",
        "y_pred_sample = model.predict([digits.data[100]])\n",
        "print(\"predicted : \" , y_pred_sample)\n",
        "print(\"Actual : \",digits.target[100])"
      ],
      "execution_count": 7,
      "outputs": [
        {
          "output_type": "stream",
          "text": [
            "predicted :  [4]\n",
            "Actual :  4\n"
          ],
          "name": "stdout"
        }
      ]
    },
    {
      "cell_type": "code",
      "metadata": {
        "id": "82XhiibfiiJ2",
        "colab_type": "code",
        "colab": {
          "base_uri": "https://localhost:8080/",
          "height": 50
        },
        "outputId": "36fb770c-b47a-466d-addd-4ffb5e423bb0"
      },
      "source": [
        "from sklearn.metrics import precision_score\n",
        "from sklearn.metrics import recall_score\n",
        "precision = precision_score(y_test,y_pred,average='micro')\n",
        "recall = recall_score(y_test,y_pred,average='micro')\n",
        "print('precision: {}'.format(precision))\n",
        "print('recall: {}'.format(recall))"
      ],
      "execution_count": 8,
      "outputs": [
        {
          "output_type": "stream",
          "text": [
            "precision: 0.8505564387917329\n",
            "recall: 0.8505564387917329\n"
          ],
          "name": "stdout"
        }
      ]
    }
  ]
}