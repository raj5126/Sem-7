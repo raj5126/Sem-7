{
 "cells": [
  {
   "cell_type": "markdown",
   "metadata": {
    "colab_type": "text",
    "id": "cuEsjk1Tzib5"
   },
   "source": [
    "#### Logistic Regression using pytorch library"
   ]
  },
  {
   "cell_type": "code",
   "execution_count": 1,
   "metadata": {
    "colab": {},
    "colab_type": "code",
    "id": "fmYH8FS5IbLO"
   },
   "outputs": [],
   "source": [
    "#import libraries\n",
    "import torch\n",
    "import numpy as np\n",
    "import pandas as pd\n",
    "import io\n",
    "from torch.utils.data import TensorDataset, DataLoader\n",
    "import torch.nn as nn"
   ]
  },
  {
   "cell_type": "code",
   "execution_count": 2,
   "metadata": {
    "colab": {},
    "colab_type": "code",
    "id": "4nMWHNohEeEo"
   },
   "outputs": [],
   "source": [
    "#Load Data\n",
    "candidates = {'gmat': [780,750,690,710,680,730,690,720,740,690,610,690,710,680,770,610,580,650,540,590,620,600,550,550,570,670,660,580,650,660,640,620,660,660,680,650,670,580,590,690],\n",
    "              'gpa': [4,3.9,3.3,3.7,3.9,3.7,2.3,3.3,3.3,1.7,2.7,3.7,3.7,3.3,3.3,3,2.7,3.7,2.7,2.3,3.3,2,2.3,2.7,3,3.3,3.7,2.3,3.7,3.3,3,2.7,4,3.3,3.3,2.3,2.7,3.3,1.7,3.7],\n",
    "              'work_experience': [3,4,3,5,4,6,1,4,5,1,3,5,6,4,3,1,4,6,2,3,2,1,4,1,2,6,4,2,6,5,1,2,4,6,5,1,2,1,4,5],\n",
    "              'admitted': [1,1,0,1,0,1,0,1,1,0,0,1,1,0,1,0,0,1,0,0,1,0,0,0,0,1,1,0,1,1,0,0,1,1,1,0,0,0,0,1]\n",
    "              }\n",
    "data = pd.DataFrame(candidates,columns=['gmat','gpa','work_experience','admitted'])"
   ]
  },
  {
   "cell_type": "code",
   "execution_count": 3,
   "metadata": {
    "colab": {
     "base_uri": "https://localhost:8080/",
     "height": 50
    },
    "colab_type": "code",
    "id": "g-CiTvEjJ5bR",
    "outputId": "a7c4ac68-5134-404b-9aba-42da5ca4f37a"
   },
   "outputs": [
    {
     "name": "stdout",
     "output_type": "stream",
     "text": [
      "torch.Size([40, 3])\n",
      "torch.Size([40, 1])\n"
     ]
    }
   ],
   "source": [
    "#define X and y (input and targets)\n",
    "X=data.iloc[:,:-1].values\n",
    "y=data.iloc[:,-1].values\n",
    "inputs = torch.tensor(X,dtype=torch.float32)\n",
    "targets = torch.tensor(y,dtype=torch.float32)\n",
    "targets.resize_(targets.shape[0],1)\n",
    "m=targets.shape[0]\n",
    "print(inputs.shape)\n",
    "print(targets.shape)"
   ]
  },
  {
   "cell_type": "code",
   "execution_count": 4,
   "metadata": {
    "colab": {
     "base_uri": "https://localhost:8080/",
     "height": 101
    },
    "colab_type": "code",
    "id": "lzX6EBAgNYrA",
    "outputId": "c7212fbf-02df-4320-a596-62bcc6c422cf"
   },
   "outputs": [
    {
     "name": "stdout",
     "output_type": "stream",
     "text": [
      "tensor([[780.0000,   4.0000,   3.0000,   1.0000],\n",
      "        [750.0000,   3.9000,   4.0000,   1.0000],\n",
      "        [690.0000,   3.3000,   3.0000,   1.0000],\n",
      "        [710.0000,   3.7000,   5.0000,   1.0000],\n",
      "        [680.0000,   3.9000,   4.0000,   1.0000]])\n"
     ]
    }
   ],
   "source": [
    "#Add bias\n",
    "bias = torch.ones(targets.shape[0],dtype=torch.float32)\n",
    "bias.resize_(1,targets.shape[0])\n",
    "new_input = torch.cat((inputs,bias.t()),1)\n",
    "print(new_input[0:5])"
   ]
  },
  {
   "cell_type": "code",
   "execution_count": 5,
   "metadata": {
    "colab": {
     "base_uri": "https://localhost:8080/",
     "height": 101
    },
    "colab_type": "code",
    "id": "T3ic52rxv78w",
    "outputId": "94a18eb1-f405-4c44-e986-183614b72be0"
   },
   "outputs": [
    {
     "name": "stdout",
     "output_type": "stream",
     "text": [
      "tensor([[0.0411],\n",
      "        [0.6801],\n",
      "        [0.8380],\n",
      "        [0.1359]])\n",
      "torch.Size([4, 1])\n"
     ]
    }
   ],
   "source": [
    "#Assign weight to random values\n",
    "weight = torch.rand((new_input.shape[1],1),dtype=torch.float32)\n",
    "weight.resize_(new_input.shape[1],1)\n",
    "print(weight)\n",
    "print(weight.shape)"
   ]
  },
  {
   "cell_type": "code",
   "execution_count": 6,
   "metadata": {
    "colab": {},
    "colab_type": "code",
    "id": "9hhwffc1Ncke"
   },
   "outputs": [],
   "source": [
    "#Define All Functions\n",
    "def gradientDescent(x,y,alpha,num_of_epochs,weight):\n",
    "  for i in range(0,num_of_epochs):\n",
    "    weight = weight - (alpha)*torch.mm(x.t(),(sigmoid(x,weight)-y))\n",
    "  return weight\n",
    "\n",
    "def sigmoid(input,weight):\n",
    "  z=torch.mm(input,weight)\n",
    "  return 1/(1+torch.exp(-z))\n",
    "\n",
    "def predict(prob):\n",
    "  if prob>=0.5:\n",
    "    return 1\n",
    "  else:\n",
    "    return 0\n",
    "    \n",
    "def cross_entropy(y_pred,y):\n",
    "  return -torch.sum(y*torch.log(y_pred)+(1-y)*torch.log(1-y_pred))"
   ]
  },
  {
   "cell_type": "code",
   "execution_count": 7,
   "metadata": {
    "colab": {},
    "colab_type": "code",
    "id": "ykFkznXcSh_6"
   },
   "outputs": [],
   "source": [
    "#Define alpha and num_of_epochs\n",
    "alpha = 1e-6\n",
    "num_of_epochs = 1000000"
   ]
  },
  {
   "cell_type": "code",
   "execution_count": 8,
   "metadata": {
    "colab": {},
    "colab_type": "code",
    "id": "OIdX-DTiiicV"
   },
   "outputs": [],
   "source": [
    "#model execution for num_of_epochs\n",
    "final_weight = gradientDescent(new_input,targets,alpha,num_of_epochs,weight)"
   ]
  },
  {
   "cell_type": "code",
   "execution_count": 9,
   "metadata": {
    "colab": {
     "base_uri": "https://localhost:8080/",
     "height": 84
    },
    "colab_type": "code",
    "id": "m40IAApJTEFo",
    "outputId": "0ae73cea-a640-4e5b-af13-bd085c8db8b3"
   },
   "outputs": [
    {
     "name": "stdout",
     "output_type": "stream",
     "text": [
      "tensor([[-0.0156],\n",
      "        [ 1.8616],\n",
      "        [ 1.2115],\n",
      "        [-0.6801]])\n"
     ]
    }
   ],
   "source": [
    "#Final weight\n",
    "print(final_weight)"
   ]
  },
  {
   "cell_type": "code",
   "execution_count": 10,
   "metadata": {
    "colab": {
     "base_uri": "https://localhost:8080/",
     "height": 101
    },
    "colab_type": "code",
    "id": "KwhuY32sigjG",
    "outputId": "8881dd0a-e752-451b-ec04-621fb0e0f4e4"
   },
   "outputs": [
    {
     "name": "stdout",
     "output_type": "stream",
     "text": [
      "tensor([[0.1443],\n",
      "        [0.4289],\n",
      "        [0.1574],\n",
      "        [0.7645],\n",
      "        [0.6914]])\n"
     ]
    }
   ],
   "source": [
    "#predict probability\n",
    "y_prob=torch.zeros(m,1)\n",
    "y_prob=sigmoid(new_input,final_weight)\n",
    "print(y_prob[0:5])"
   ]
  },
  {
   "cell_type": "code",
   "execution_count": 11,
   "metadata": {
    "colab": {
     "base_uri": "https://localhost:8080/",
     "height": 34
    },
    "colab_type": "code",
    "id": "XaDPLVZlY-4Z",
    "outputId": "43e98512-3273-4093-843f-104ae08ae33d"
   },
   "outputs": [
    {
     "name": "stdout",
     "output_type": "stream",
     "text": [
      "tensor(16.4898)\n"
     ]
    }
   ],
   "source": [
    "#find loss\n",
    "loss=cross_entropy(y_prob,targets)\n",
    "print(loss)"
   ]
  },
  {
   "cell_type": "code",
   "execution_count": 12,
   "metadata": {
    "colab": {
     "base_uri": "https://localhost:8080/",
     "height": 689
    },
    "colab_type": "code",
    "id": "iXs6ZXEPZR5u",
    "outputId": "2b68e9e9-0c62-46e3-e6f0-75c3bc251bd0"
   },
   "outputs": [
    {
     "name": "stdout",
     "output_type": "stream",
     "text": [
      "Probability :  tensor([0.1443]) Predicted class :  0 Actual class:  tensor([1.])\n",
      "Probability :  tensor([0.4289]) Predicted class :  0 Actual class:  tensor([1.])\n",
      "Probability :  tensor([0.1574]) Predicted class :  0 Actual class:  tensor([0.])\n",
      "Probability :  tensor([0.7645]) Predicted class :  1 Actual class:  tensor([1.])\n",
      "Probability :  tensor([0.6914]) Predicted class :  1 Actual class:  tensor([0.])\n",
      "Probability :  tensor([0.8886]) Predicted class :  1 Actual class:  tensor([1.])\n",
      "Probability :  tensor([0.0026]) Predicted class :  0 Actual class:  tensor([0.])\n",
      "Probability :  tensor([0.2820]) Predicted class :  0 Actual class:  tensor([1.])\n",
      "Probability :  tensor([0.4911]) Predicted class :  0 Actual class:  tensor([1.])\n",
      "Probability :  tensor([0.0008]) Predicted class :  0 Actual class:  tensor([0.])\n",
      "Probability :  tensor([0.1758]) Predicted class :  0 Actual class:  tensor([0.])\n",
      "Probability :  tensor([0.8161]) Predicted class :  1 Actual class:  tensor([1.])\n",
      "Probability :  tensor([0.9160]) Predicted class :  1 Actual class:  tensor([1.])\n",
      "Probability :  tensor([0.4231]) Predicted class :  0 Actual class:  tensor([0.])\n",
      "Probability :  tensor([0.0508]) Predicted class :  0 Actual class:  tensor([1.])\n",
      "Probability :  tensor([0.0320]) Predicted class :  0 Actual class:  tensor([0.])\n",
      "Probability :  tensor([0.5336]) Predicted class :  1 Actual class:  tensor([0.])\n",
      "Probability :  tensor([0.9653]) Predicted class :  1 Actual class:  tensor([1.])\n",
      "Probability :  tensor([0.1593]) Predicted class :  0 Actual class:  tensor([0.])\n",
      "Probability :  tensor([0.1216]) Predicted class :  0 Actual class:  tensor([0.])\n",
      "Probability :  tensor([0.1423]) Predicted class :  0 Actual class:  tensor([1.])\n",
      "Probability :  tensor([0.0060]) Predicted class :  0 Actual class:  tensor([0.])\n",
      "Probability :  tensor([0.4647]) Predicted class :  0 Actual class:  tensor([0.])\n",
      "Probability :  tensor([0.0460]) Predicted class :  0 Actual class:  tensor([0.])\n",
      "Probability :  tensor([0.1717]) Predicted class :  0 Actual class:  tensor([0.])\n",
      "Probability :  tensor([0.9063]) Predicted class :  1 Actual class:  tensor([1.])\n",
      "Probability :  tensor([0.6785]) Predicted class :  1 Actual class:  tensor([1.])\n",
      "Probability :  tensor([0.0460]) Predicted class :  0 Actual class:  tensor([0.])\n",
      "Probability :  tensor([0.9653]) Predicted class :  1 Actual class:  tensor([1.])\n",
      "Probability :  tensor([0.7710]) Predicted class :  1 Actual class:  tensor([1.])\n",
      "Probability :  tensor([0.0203]) Predicted class :  0 Actual class:  tensor([0.])\n",
      "Probability :  tensor([0.0515]) Predicted class :  0 Actual class:  tensor([0.])\n",
      "Probability :  tensor([0.7867]) Predicted class :  1 Actual class:  tensor([1.])\n",
      "Probability :  tensor([0.9187]) Predicted class :  1 Actual class:  tensor([1.])\n",
      "Probability :  tensor([0.7112]) Predicted class :  1 Actual class:  tensor([1.])\n",
      "Probability :  tensor([0.0048]) Predicted class :  0 Actual class:  tensor([0.])\n",
      "Probability :  tensor([0.0243]) Predicted class :  0 Actual class:  tensor([0.])\n",
      "Probability :  tensor([0.0845]) Predicted class :  0 Actual class:  tensor([0.])\n",
      "Probability :  tensor([0.1320]) Predicted class :  0 Actual class:  tensor([0.])\n",
      "Probability :  tensor([0.8161]) Predicted class :  1 Actual class:  tensor([1.])\n"
     ]
    }
   ],
   "source": [
    "#Predict class using probabily with given thresold=0.5\n",
    "for i,prob in enumerate(y_prob):\n",
    "  y_pred = predict(prob)\n",
    "  print(\"Probability : \",prob,\"Predicted class : \",y_pred,\"Actual class: \",targets[i])"
   ]
  }
 ],
 "metadata": {
  "colab": {
   "collapsed_sections": [],
   "name": "074_06.ipynb",
   "provenance": []
  },
  "kernelspec": {
   "display_name": "Python 3",
   "language": "python",
   "name": "python3"
  },
  "language_info": {
   "codemirror_mode": {
    "name": "ipython",
    "version": 3
   },
   "file_extension": ".py",
   "mimetype": "text/x-python",
   "name": "python",
   "nbconvert_exporter": "python",
   "pygments_lexer": "ipython3",
   "version": "3.7.6"
  }
 },
 "nbformat": 4,
 "nbformat_minor": 1
}
